{
 "cells": [
  {
   "cell_type": "code",
   "execution_count": 1,
   "id": "9a72eea5",
   "metadata": {
    "scrolled": true
   },
   "outputs": [
    {
     "name": "stderr",
     "output_type": "stream",
     "text": [
      "[nltk_data] Downloading package vader_lexicon to\n",
      "[nltk_data]     C:\\Users\\user\\AppData\\Roaming\\nltk_data...\n",
      "[nltk_data]   Package vader_lexicon is already up-to-date!\n"
     ]
    },
    {
     "data": {
      "text/plain": [
       "True"
      ]
     },
     "execution_count": 1,
     "metadata": {},
     "output_type": "execute_result"
    }
   ],
   "source": [
    "import pandas as pd\n",
    "import re\n",
    "# Import Libraries\n",
    "\n",
    "from textblob import TextBlob\n",
    "import sys\n",
    "import tweepy\n",
    "import matplotlib.pyplot as plt\n",
    "import pandas as pd\n",
    "import numpy as np\n",
    "import os\n",
    "import nltk\n",
    "import pycountry\n",
    "import re\n",
    "import string\n",
    "\n",
    "from wordcloud import WordCloud, STOPWORDS\n",
    "from PIL import Image\n",
    "from nltk.sentiment.vader import SentimentIntensityAnalyzer\n",
    "from langdetect import detect\n",
    "from nltk.stem import SnowballStemmer\n",
    "from nltk.sentiment.vader import SentimentIntensityAnalyzer\n",
    "from sklearn.feature_extraction.text import CountVectorizer\n",
    "nltk.download('vader_lexicon')"
   ]
  },
  {
   "cell_type": "code",
   "execution_count": 2,
   "id": "ec58a75c",
   "metadata": {},
   "outputs": [],
   "source": [
    "#Load the libraries\n",
    "import numpy as np\n",
    "import pandas as pd\n",
    "import seaborn as sns\n",
    "import matplotlib.pyplot as plt\n",
    "import nltk\n",
    "from sklearn.feature_extraction.text import CountVectorizer\n",
    "from sklearn.feature_extraction.text import TfidfVectorizer\n",
    "from sklearn.preprocessing import LabelBinarizer\n",
    "from nltk.corpus import stopwords\n",
    "from nltk.stem.porter import PorterStemmer\n",
    "from wordcloud import WordCloud,STOPWORDS\n",
    "from nltk.stem import WordNetLemmatizer\n",
    "from nltk.tokenize import word_tokenize,sent_tokenize\n",
    "from bs4 import BeautifulSoup\n",
    "#import spacy\n",
    "import re,string,unicodedata\n",
    "from nltk.tokenize.toktok import ToktokTokenizer\n",
    "from nltk.stem import LancasterStemmer,WordNetLemmatizer\n",
    "from sklearn.linear_model import LogisticRegression,SGDClassifier\n",
    "from sklearn.naive_bayes import MultinomialNB\n",
    "from sklearn.svm import SVC\n",
    "from textblob import TextBlob\n",
    "from textblob import Word\n",
    "from sklearn.metrics import classification_report,confusion_matrix,accuracy_score\n",
    "\n",
    "import os\n",
    "#print(os.listdir(\"../input\"))\n",
    "import warnings\n",
    "warnings.filterwarnings('ignore')"
   ]
  },
  {
   "cell_type": "code",
   "execution_count": 3,
   "id": "2a8b8045",
   "metadata": {},
   "outputs": [],
   "source": [
    "df1 = pd.read_csv('scraped_tweets_peter obi.csv')"
   ]
  },
  {
   "cell_type": "code",
   "execution_count": 4,
   "id": "eab722c1",
   "metadata": {},
   "outputs": [],
   "source": [
    "df_tinu = pd.read_csv('scraped_tweets_tinubu.csv')"
   ]
  },
  {
   "cell_type": "code",
   "execution_count": 5,
   "id": "b6a15e7d",
   "metadata": {},
   "outputs": [],
   "source": [
    "df_atiku = pd.read_csv('scraped_tweets_atiku.csv')"
   ]
  },
  {
   "cell_type": "code",
   "execution_count": 6,
   "id": "e2859481",
   "metadata": {},
   "outputs": [],
   "source": [
    "df_apc = pd.read_csv('scraped_tweets_APC.csv')"
   ]
  },
  {
   "cell_type": "code",
   "execution_count": 7,
   "id": "e9b499d8",
   "metadata": {},
   "outputs": [],
   "source": [
    "df_pdp = pd.read_csv('scraped_tweets_PDP.csv')"
   ]
  },
  {
   "cell_type": "code",
   "execution_count": 8,
   "id": "454a7f34",
   "metadata": {},
   "outputs": [],
   "source": [
    "df_t_a_e_2 = pd.read_csv('scraped_tweets_tinubu APC election 2023.csv')"
   ]
  },
  {
   "cell_type": "code",
   "execution_count": 9,
   "id": "5e352eb4",
   "metadata": {},
   "outputs": [],
   "source": [
    "df_a_p_e_2 = pd.read_csv('scraped_tweets_atiku pdp election 2023.csv')"
   ]
  },
  {
   "cell_type": "code",
   "execution_count": 10,
   "id": "b895aebd",
   "metadata": {},
   "outputs": [],
   "source": [
    "df2 = pd.read_csv('scraped_tweets_peter obi labour party lp election 2023.csv')"
   ]
  },
  {
   "cell_type": "code",
   "execution_count": 11,
   "id": "343366de",
   "metadata": {},
   "outputs": [],
   "source": [
    "df3 = pd.read_csv('scraped_tweets_obidient obidatti.csv')"
   ]
  },
  {
   "cell_type": "code",
   "execution_count": 12,
   "id": "4bf6c9fb",
   "metadata": {},
   "outputs": [],
   "source": [
    "peter_obi = pd.concat([df1,df3])\n"
   ]
  },
  {
   "cell_type": "code",
   "execution_count": 13,
   "id": "8c1ee793",
   "metadata": {},
   "outputs": [],
   "source": [
    "peter_obi = pd.concat([peter_obi,df2])\n",
    "peter_obi.to_csv('peter_obi.csv')"
   ]
  },
  {
   "cell_type": "code",
   "execution_count": 14,
   "id": "065144fe",
   "metadata": {},
   "outputs": [],
   "source": [
    "atiku = pd.concat([df_atiku, df_pdp])"
   ]
  },
  {
   "cell_type": "code",
   "execution_count": 15,
   "id": "323090ac",
   "metadata": {},
   "outputs": [],
   "source": [
    "atiku = pd.concat([atiku,df_a_p_e_2])\n",
    "atiku.to_csv('atiku.csv')"
   ]
  },
  {
   "cell_type": "code",
   "execution_count": 16,
   "id": "144b42d6",
   "metadata": {},
   "outputs": [],
   "source": [
    "tinubu = pd.concat([df_tinu,df_apc])"
   ]
  },
  {
   "cell_type": "code",
   "execution_count": 17,
   "id": "c3108b76",
   "metadata": {},
   "outputs": [],
   "source": [
    "tinubu = pd.concat([tinubu,df_t_a_e_2])\n",
    "tinubu.to_csv('tinubu.csv')"
   ]
  },
  {
   "cell_type": "code",
   "execution_count": 18,
   "id": "061dbf97",
   "metadata": {},
   "outputs": [
    {
     "data": {
      "text/html": [
       "<div>\n",
       "<style scoped>\n",
       "    .dataframe tbody tr th:only-of-type {\n",
       "        vertical-align: middle;\n",
       "    }\n",
       "\n",
       "    .dataframe tbody tr th {\n",
       "        vertical-align: top;\n",
       "    }\n",
       "\n",
       "    .dataframe thead th {\n",
       "        text-align: right;\n",
       "    }\n",
       "</style>\n",
       "<table border=\"1\" class=\"dataframe\">\n",
       "  <thead>\n",
       "    <tr style=\"text-align: right;\">\n",
       "      <th></th>\n",
       "      <th>Unnamed: 0</th>\n",
       "      <th>username</th>\n",
       "      <th>description</th>\n",
       "      <th>location</th>\n",
       "      <th>following</th>\n",
       "      <th>followers</th>\n",
       "      <th>totaltweets</th>\n",
       "      <th>retweetcount</th>\n",
       "      <th>text</th>\n",
       "      <th>candidate</th>\n",
       "    </tr>\n",
       "  </thead>\n",
       "  <tbody>\n",
       "    <tr>\n",
       "      <th>0</th>\n",
       "      <td>0</td>\n",
       "      <td>OzyBundee</td>\n",
       "      <td>I am a unique mixture of being laid back but i...</td>\n",
       "      <td>South Africa</td>\n",
       "      <td>2319</td>\n",
       "      <td>1793</td>\n",
       "      <td>31755</td>\n",
       "      <td>2334</td>\n",
       "      <td>Peter Obi know the size of River Niger, River ...</td>\n",
       "      <td>peter</td>\n",
       "    </tr>\n",
       "    <tr>\n",
       "      <th>1</th>\n",
       "      <td>1</td>\n",
       "      <td>AjikeOmoJesu</td>\n",
       "      <td>wholeheartedly Obidient and absolutely Yusful\\...</td>\n",
       "      <td>Nigeria</td>\n",
       "      <td>86</td>\n",
       "      <td>39</td>\n",
       "      <td>2247</td>\n",
       "      <td>139</td>\n",
       "      <td>Where are Agbado and Mikano boys this evening?...</td>\n",
       "      <td>peter</td>\n",
       "    </tr>\n",
       "    <tr>\n",
       "      <th>2</th>\n",
       "      <td>2</td>\n",
       "      <td>VICTORYCHIMEZI3</td>\n",
       "      <td>For the Amazing Love of GOD constrains me</td>\n",
       "      <td>NaN</td>\n",
       "      <td>1052</td>\n",
       "      <td>86</td>\n",
       "      <td>85</td>\n",
       "      <td>663</td>\n",
       "      <td>I will be Commander-in-Chief and I will deal w...</td>\n",
       "      <td>peter</td>\n",
       "    </tr>\n",
       "    <tr>\n",
       "      <th>3</th>\n",
       "      <td>3</td>\n",
       "      <td>goreehollar1</td>\n",
       "      <td>CEO of GREY CHEMICALS &amp; FUMIGATION SERVICES \\n...</td>\n",
       "      <td>NaN</td>\n",
       "      <td>906</td>\n",
       "      <td>3245</td>\n",
       "      <td>67173</td>\n",
       "      <td>461</td>\n",
       "      <td>According to Steve of Arise News TV, lots of N...</td>\n",
       "      <td>peter</td>\n",
       "    </tr>\n",
       "    <tr>\n",
       "      <th>4</th>\n",
       "      <td>4</td>\n",
       "      <td>Pius55739256</td>\n",
       "      <td>I want to do it again and again, as long as I ...</td>\n",
       "      <td>Federal Capital Territory, Nig</td>\n",
       "      <td>336</td>\n",
       "      <td>112</td>\n",
       "      <td>3418</td>\n",
       "      <td>819</td>\n",
       "      <td>When you listen to Peter Obi, you won’t need a...</td>\n",
       "      <td>peter</td>\n",
       "    </tr>\n",
       "    <tr>\n",
       "      <th>...</th>\n",
       "      <td>...</td>\n",
       "      <td>...</td>\n",
       "      <td>...</td>\n",
       "      <td>...</td>\n",
       "      <td>...</td>\n",
       "      <td>...</td>\n",
       "      <td>...</td>\n",
       "      <td>...</td>\n",
       "      <td>...</td>\n",
       "      <td>...</td>\n",
       "    </tr>\n",
       "    <tr>\n",
       "      <th>12</th>\n",
       "      <td>12</td>\n",
       "      <td>WazobiaFMPH</td>\n",
       "      <td>Chook Mouth! 084 460 941</td>\n",
       "      <td>Rumuosi, Port Harcourt</td>\n",
       "      <td>142</td>\n",
       "      <td>40868</td>\n",
       "      <td>32976</td>\n",
       "      <td>0</td>\n",
       "      <td>#NewsHeadlines: Joseph Faduri wey been run to ...</td>\n",
       "      <td>peter</td>\n",
       "    </tr>\n",
       "    <tr>\n",
       "      <th>13</th>\n",
       "      <td>13</td>\n",
       "      <td>NigeriaVotes_ng</td>\n",
       "      <td>Voter Education | Opinion Polls | Approval Rat...</td>\n",
       "      <td>Nigeria</td>\n",
       "      <td>120</td>\n",
       "      <td>174</td>\n",
       "      <td>5646</td>\n",
       "      <td>1</td>\n",
       "      <td>2023: Nobody gave me private jet for campaigns...</td>\n",
       "      <td>peter</td>\n",
       "    </tr>\n",
       "    <tr>\n",
       "      <th>14</th>\n",
       "      <td>14</td>\n",
       "      <td>james_swam</td>\n",
       "      <td>A PR/advertising practitioner, former spokespe...</td>\n",
       "      <td>NaN</td>\n",
       "      <td>32</td>\n",
       "      <td>12</td>\n",
       "      <td>26</td>\n",
       "      <td>0</td>\n",
       "      <td>Presidential candidate of Labour Party, LP, Pe...</td>\n",
       "      <td>peter</td>\n",
       "    </tr>\n",
       "    <tr>\n",
       "      <th>15</th>\n",
       "      <td>15</td>\n",
       "      <td>aanjuwon</td>\n",
       "      <td>The truth will set you free...</td>\n",
       "      <td>NaN</td>\n",
       "      <td>1250</td>\n",
       "      <td>1454</td>\n",
       "      <td>22394</td>\n",
       "      <td>0</td>\n",
       "      <td>Asiwaju Bola Ahmed Tinubu and that of the Labo...</td>\n",
       "      <td>peter</td>\n",
       "    </tr>\n",
       "    <tr>\n",
       "      <th>16</th>\n",
       "      <td>16</td>\n",
       "      <td>okaforwilly</td>\n",
       "      <td>NaN</td>\n",
       "      <td>NaN</td>\n",
       "      <td>76</td>\n",
       "      <td>17</td>\n",
       "      <td>106</td>\n",
       "      <td>0</td>\n",
       "      <td>@PeterObi A win for Peter Obi - Datti Baba is ...</td>\n",
       "      <td>peter</td>\n",
       "    </tr>\n",
       "  </tbody>\n",
       "</table>\n",
       "<p>1292 rows × 10 columns</p>\n",
       "</div>"
      ],
      "text/plain": [
       "    Unnamed: 0         username  \\\n",
       "0            0        OzyBundee   \n",
       "1            1     AjikeOmoJesu   \n",
       "2            2  VICTORYCHIMEZI3   \n",
       "3            3     goreehollar1   \n",
       "4            4     Pius55739256   \n",
       "..         ...              ...   \n",
       "12          12      WazobiaFMPH   \n",
       "13          13  NigeriaVotes_ng   \n",
       "14          14       james_swam   \n",
       "15          15         aanjuwon   \n",
       "16          16      okaforwilly   \n",
       "\n",
       "                                          description  \\\n",
       "0   I am a unique mixture of being laid back but i...   \n",
       "1   wholeheartedly Obidient and absolutely Yusful\\...   \n",
       "2           For the Amazing Love of GOD constrains me   \n",
       "3   CEO of GREY CHEMICALS & FUMIGATION SERVICES \\n...   \n",
       "4   I want to do it again and again, as long as I ...   \n",
       "..                                                ...   \n",
       "12                           Chook Mouth! 084 460 941   \n",
       "13  Voter Education | Opinion Polls | Approval Rat...   \n",
       "14  A PR/advertising practitioner, former spokespe...   \n",
       "15                     The truth will set you free...   \n",
       "16                                                NaN   \n",
       "\n",
       "                          location  following  followers  totaltweets  \\\n",
       "0                     South Africa       2319       1793        31755   \n",
       "1                          Nigeria         86         39         2247   \n",
       "2                              NaN       1052         86           85   \n",
       "3                              NaN        906       3245        67173   \n",
       "4   Federal Capital Territory, Nig        336        112         3418   \n",
       "..                             ...        ...        ...          ...   \n",
       "12          Rumuosi, Port Harcourt        142      40868        32976   \n",
       "13                         Nigeria        120        174         5646   \n",
       "14                             NaN         32         12           26   \n",
       "15                             NaN       1250       1454        22394   \n",
       "16                             NaN         76         17          106   \n",
       "\n",
       "    retweetcount                                               text candidate  \n",
       "0           2334  Peter Obi know the size of River Niger, River ...     peter  \n",
       "1            139  Where are Agbado and Mikano boys this evening?...     peter  \n",
       "2            663  I will be Commander-in-Chief and I will deal w...     peter  \n",
       "3            461  According to Steve of Arise News TV, lots of N...     peter  \n",
       "4            819  When you listen to Peter Obi, you won’t need a...     peter  \n",
       "..           ...                                                ...       ...  \n",
       "12             0  #NewsHeadlines: Joseph Faduri wey been run to ...     peter  \n",
       "13             1  2023: Nobody gave me private jet for campaigns...     peter  \n",
       "14             0  Presidential candidate of Labour Party, LP, Pe...     peter  \n",
       "15             0  Asiwaju Bola Ahmed Tinubu and that of the Labo...     peter  \n",
       "16             0  @PeterObi A win for Peter Obi - Datti Baba is ...     peter  \n",
       "\n",
       "[1292 rows x 10 columns]"
      ]
     },
     "execution_count": 18,
     "metadata": {},
     "output_type": "execute_result"
    }
   ],
   "source": [
    "peter_obi['candidate'] = 'peter'\n",
    "peter_obi"
   ]
  },
  {
   "cell_type": "code",
   "execution_count": 19,
   "id": "9a4c9fff",
   "metadata": {},
   "outputs": [
    {
     "data": {
      "text/html": [
       "<div>\n",
       "<style scoped>\n",
       "    .dataframe tbody tr th:only-of-type {\n",
       "        vertical-align: middle;\n",
       "    }\n",
       "\n",
       "    .dataframe tbody tr th {\n",
       "        vertical-align: top;\n",
       "    }\n",
       "\n",
       "    .dataframe thead th {\n",
       "        text-align: right;\n",
       "    }\n",
       "</style>\n",
       "<table border=\"1\" class=\"dataframe\">\n",
       "  <thead>\n",
       "    <tr style=\"text-align: right;\">\n",
       "      <th></th>\n",
       "      <th>Unnamed: 0</th>\n",
       "      <th>username</th>\n",
       "      <th>description</th>\n",
       "      <th>location</th>\n",
       "      <th>following</th>\n",
       "      <th>followers</th>\n",
       "      <th>totaltweets</th>\n",
       "      <th>retweetcount</th>\n",
       "      <th>text</th>\n",
       "      <th>candidate</th>\n",
       "    </tr>\n",
       "  </thead>\n",
       "  <tbody>\n",
       "    <tr>\n",
       "      <th>0</th>\n",
       "      <td>0</td>\n",
       "      <td>BarryDudor</td>\n",
       "      <td>NaN</td>\n",
       "      <td>NaN</td>\n",
       "      <td>61</td>\n",
       "      <td>17</td>\n",
       "      <td>704</td>\n",
       "      <td>14</td>\n",
       "      <td>I just say make i remind you to use your brain...</td>\n",
       "      <td>Atiku</td>\n",
       "    </tr>\n",
       "    <tr>\n",
       "      <th>1</th>\n",
       "      <td>1</td>\n",
       "      <td>mobis101</td>\n",
       "      <td>august,20</td>\n",
       "      <td>Kellen, Texas, USA</td>\n",
       "      <td>1156</td>\n",
       "      <td>167</td>\n",
       "      <td>2599</td>\n",
       "      <td>0</td>\n",
       "      <td>@renoomokri And you graduated with what ? Pete...</td>\n",
       "      <td>Atiku</td>\n",
       "    </tr>\n",
       "    <tr>\n",
       "      <th>2</th>\n",
       "      <td>2</td>\n",
       "      <td>Aknloluwqmi</td>\n",
       "      <td>obanirin</td>\n",
       "      <td>🇺🇸</td>\n",
       "      <td>356</td>\n",
       "      <td>405</td>\n",
       "      <td>10307</td>\n",
       "      <td>50</td>\n",
       "      <td>Dele Momodu should provide Hope of MKO Abiola’...</td>\n",
       "      <td>Atiku</td>\n",
       "    </tr>\n",
       "    <tr>\n",
       "      <th>3</th>\n",
       "      <td>3</td>\n",
       "      <td>Alasela8</td>\n",
       "      <td>Proud to be a Black</td>\n",
       "      <td>Port Harcourt, Nigeria</td>\n",
       "      <td>54</td>\n",
       "      <td>39</td>\n",
       "      <td>123</td>\n",
       "      <td>0</td>\n",
       "      <td>@atiku Sympathy,or empathy, which ways?pass le...</td>\n",
       "      <td>Atiku</td>\n",
       "    </tr>\n",
       "    <tr>\n",
       "      <th>4</th>\n",
       "      <td>4</td>\n",
       "      <td>NMoviesPlanetT1</td>\n",
       "      <td>N-Movies Planet Television is the home of ever...</td>\n",
       "      <td>NaN</td>\n",
       "      <td>916</td>\n",
       "      <td>53</td>\n",
       "      <td>563</td>\n",
       "      <td>0</td>\n",
       "      <td>Since this one lies dried up, he's so obsessed...</td>\n",
       "      <td>Atiku</td>\n",
       "    </tr>\n",
       "    <tr>\n",
       "      <th>...</th>\n",
       "      <td>...</td>\n",
       "      <td>...</td>\n",
       "      <td>...</td>\n",
       "      <td>...</td>\n",
       "      <td>...</td>\n",
       "      <td>...</td>\n",
       "      <td>...</td>\n",
       "      <td>...</td>\n",
       "      <td>...</td>\n",
       "      <td>...</td>\n",
       "    </tr>\n",
       "    <tr>\n",
       "      <th>494</th>\n",
       "      <td>494</td>\n",
       "      <td>Amb_Balemoh</td>\n",
       "      <td>Quantity Surveyor | Author | Data Analyst &amp; Me...</td>\n",
       "      <td>Abuja, Nigeria</td>\n",
       "      <td>475</td>\n",
       "      <td>1093</td>\n",
       "      <td>6028</td>\n",
       "      <td>20</td>\n",
       "      <td>For this 2023 presidential election, I stand f...</td>\n",
       "      <td>Atiku</td>\n",
       "    </tr>\n",
       "    <tr>\n",
       "      <th>495</th>\n",
       "      <td>495</td>\n",
       "      <td>Angela201045315</td>\n",
       "      <td>I am more than a woman and I am who I am. what...</td>\n",
       "      <td>NaN</td>\n",
       "      <td>5648</td>\n",
       "      <td>5141</td>\n",
       "      <td>73547</td>\n",
       "      <td>20</td>\n",
       "      <td>For this 2023 presidential election, I stand f...</td>\n",
       "      <td>Atiku</td>\n",
       "    </tr>\n",
       "    <tr>\n",
       "      <th>496</th>\n",
       "      <td>496</td>\n",
       "      <td>breakingnewsni1</td>\n",
       "      <td>Get the latest unbiased #breaking  #Nigerian n...</td>\n",
       "      <td>Abuja, Nigeria</td>\n",
       "      <td>969</td>\n",
       "      <td>527</td>\n",
       "      <td>3372</td>\n",
       "      <td>0</td>\n",
       "      <td>The Presidential candidate of the Peoples Demo...</td>\n",
       "      <td>Atiku</td>\n",
       "    </tr>\n",
       "    <tr>\n",
       "      <th>497</th>\n",
       "      <td>497</td>\n",
       "      <td>Nigerianey</td>\n",
       "      <td>Unbiased news/information in and around Nigeri...</td>\n",
       "      <td>Lagos Nigeria</td>\n",
       "      <td>486</td>\n",
       "      <td>8683</td>\n",
       "      <td>130788</td>\n",
       "      <td>0</td>\n",
       "      <td>2023 polls: PDP now third force, Atiku stoking...</td>\n",
       "      <td>Atiku</td>\n",
       "    </tr>\n",
       "    <tr>\n",
       "      <th>498</th>\n",
       "      <td>498</td>\n",
       "      <td>IykNwankwo</td>\n",
       "      <td>Consistency and focused..</td>\n",
       "      <td>Nigeria</td>\n",
       "      <td>565</td>\n",
       "      <td>368</td>\n",
       "      <td>248</td>\n",
       "      <td>20</td>\n",
       "      <td>For this 2023 presidential election, I stand f...</td>\n",
       "      <td>Atiku</td>\n",
       "    </tr>\n",
       "  </tbody>\n",
       "</table>\n",
       "<p>788 rows × 10 columns</p>\n",
       "</div>"
      ],
      "text/plain": [
       "     Unnamed: 0         username  \\\n",
       "0             0       BarryDudor   \n",
       "1             1         mobis101   \n",
       "2             2      Aknloluwqmi   \n",
       "3             3         Alasela8   \n",
       "4             4  NMoviesPlanetT1   \n",
       "..          ...              ...   \n",
       "494         494      Amb_Balemoh   \n",
       "495         495  Angela201045315   \n",
       "496         496  breakingnewsni1   \n",
       "497         497       Nigerianey   \n",
       "498         498       IykNwankwo   \n",
       "\n",
       "                                           description  \\\n",
       "0                                                  NaN   \n",
       "1                                            august,20   \n",
       "2                                             obanirin   \n",
       "3                                  Proud to be a Black   \n",
       "4    N-Movies Planet Television is the home of ever...   \n",
       "..                                                 ...   \n",
       "494  Quantity Surveyor | Author | Data Analyst & Me...   \n",
       "495  I am more than a woman and I am who I am. what...   \n",
       "496  Get the latest unbiased #breaking  #Nigerian n...   \n",
       "497  Unbiased news/information in and around Nigeri...   \n",
       "498                          Consistency and focused..   \n",
       "\n",
       "                   location  following  followers  totaltweets  retweetcount  \\\n",
       "0                       NaN         61         17          704            14   \n",
       "1        Kellen, Texas, USA       1156        167         2599             0   \n",
       "2                       🇺🇸         356        405        10307            50   \n",
       "3    Port Harcourt, Nigeria         54         39          123             0   \n",
       "4                       NaN        916         53          563             0   \n",
       "..                      ...        ...        ...          ...           ...   \n",
       "494          Abuja, Nigeria        475       1093         6028            20   \n",
       "495                     NaN       5648       5141        73547            20   \n",
       "496          Abuja, Nigeria        969        527         3372             0   \n",
       "497           Lagos Nigeria        486       8683       130788             0   \n",
       "498                 Nigeria        565        368          248            20   \n",
       "\n",
       "                                                  text candidate  \n",
       "0    I just say make i remind you to use your brain...     Atiku  \n",
       "1    @renoomokri And you graduated with what ? Pete...     Atiku  \n",
       "2    Dele Momodu should provide Hope of MKO Abiola’...     Atiku  \n",
       "3    @atiku Sympathy,or empathy, which ways?pass le...     Atiku  \n",
       "4    Since this one lies dried up, he's so obsessed...     Atiku  \n",
       "..                                                 ...       ...  \n",
       "494  For this 2023 presidential election, I stand f...     Atiku  \n",
       "495  For this 2023 presidential election, I stand f...     Atiku  \n",
       "496  The Presidential candidate of the Peoples Demo...     Atiku  \n",
       "497  2023 polls: PDP now third force, Atiku stoking...     Atiku  \n",
       "498  For this 2023 presidential election, I stand f...     Atiku  \n",
       "\n",
       "[788 rows x 10 columns]"
      ]
     },
     "execution_count": 19,
     "metadata": {},
     "output_type": "execute_result"
    }
   ],
   "source": [
    "atiku['candidate'] = 'Atiku'\n",
    "atiku"
   ]
  },
  {
   "cell_type": "code",
   "execution_count": 20,
   "id": "7ea88290",
   "metadata": {
    "scrolled": true
   },
   "outputs": [
    {
     "data": {
      "text/html": [
       "<div>\n",
       "<style scoped>\n",
       "    .dataframe tbody tr th:only-of-type {\n",
       "        vertical-align: middle;\n",
       "    }\n",
       "\n",
       "    .dataframe tbody tr th {\n",
       "        vertical-align: top;\n",
       "    }\n",
       "\n",
       "    .dataframe thead th {\n",
       "        text-align: right;\n",
       "    }\n",
       "</style>\n",
       "<table border=\"1\" class=\"dataframe\">\n",
       "  <thead>\n",
       "    <tr style=\"text-align: right;\">\n",
       "      <th></th>\n",
       "      <th>Unnamed: 0</th>\n",
       "      <th>username</th>\n",
       "      <th>description</th>\n",
       "      <th>location</th>\n",
       "      <th>following</th>\n",
       "      <th>followers</th>\n",
       "      <th>totaltweets</th>\n",
       "      <th>retweetcount</th>\n",
       "      <th>text</th>\n",
       "      <th>candidate</th>\n",
       "    </tr>\n",
       "  </thead>\n",
       "  <tbody>\n",
       "    <tr>\n",
       "      <th>0</th>\n",
       "      <td>0</td>\n",
       "      <td>Jagunbaba</td>\n",
       "      <td>Cool and nice fellow! Engineer, husband, fathe...</td>\n",
       "      <td>London, England</td>\n",
       "      <td>8084</td>\n",
       "      <td>9913</td>\n",
       "      <td>27247</td>\n",
       "      <td>80</td>\n",
       "      <td>If endsars wasn't particularly to end Tinubu a...</td>\n",
       "      <td>Tinubu</td>\n",
       "    </tr>\n",
       "    <tr>\n",
       "      <th>1</th>\n",
       "      <td>1</td>\n",
       "      <td>tae_ajet</td>\n",
       "      <td>Taciturn: The king of Poindexter•</td>\n",
       "      <td>World</td>\n",
       "      <td>204</td>\n",
       "      <td>199</td>\n",
       "      <td>2554</td>\n",
       "      <td>0</td>\n",
       "      <td>@OladapoSam01 @DeleFarotimi @toyinsubi @ezepei...</td>\n",
       "      <td>Tinubu</td>\n",
       "    </tr>\n",
       "    <tr>\n",
       "      <th>2</th>\n",
       "      <td>2</td>\n",
       "      <td>oat_tracy</td>\n",
       "      <td>Have you thanked God today?🙃</td>\n",
       "      <td>Home</td>\n",
       "      <td>1644</td>\n",
       "      <td>1701</td>\n",
       "      <td>145143</td>\n",
       "      <td>131</td>\n",
       "      <td>Why care about your personal income when you c...</td>\n",
       "      <td>Tinubu</td>\n",
       "    </tr>\n",
       "    <tr>\n",
       "      <th>3</th>\n",
       "      <td>3</td>\n",
       "      <td>Jagaban_Olu</td>\n",
       "      <td>Political scientist, football enthusiast and l...</td>\n",
       "      <td>Lagos, Nigeria</td>\n",
       "      <td>200</td>\n",
       "      <td>53</td>\n",
       "      <td>2060</td>\n",
       "      <td>32</td>\n",
       "      <td>Obidients don't need to hate Seyi Tinubu for o...</td>\n",
       "      <td>Tinubu</td>\n",
       "    </tr>\n",
       "    <tr>\n",
       "      <th>4</th>\n",
       "      <td>4</td>\n",
       "      <td>thebardogbamola</td>\n",
       "      <td>Scriptwriter.\\nTechnical and copywriting.\\nPR....</td>\n",
       "      <td>Somewhere in Nigeria.</td>\n",
       "      <td>5160</td>\n",
       "      <td>36806</td>\n",
       "      <td>189006</td>\n",
       "      <td>4</td>\n",
       "      <td>Tinubu &amp;amp; his group of thieves are so despe...</td>\n",
       "      <td>Tinubu</td>\n",
       "    </tr>\n",
       "    <tr>\n",
       "      <th>...</th>\n",
       "      <td>...</td>\n",
       "      <td>...</td>\n",
       "      <td>...</td>\n",
       "      <td>...</td>\n",
       "      <td>...</td>\n",
       "      <td>...</td>\n",
       "      <td>...</td>\n",
       "      <td>...</td>\n",
       "      <td>...</td>\n",
       "      <td>...</td>\n",
       "    </tr>\n",
       "    <tr>\n",
       "      <th>995</th>\n",
       "      <td>995</td>\n",
       "      <td>AsafaDauda</td>\n",
       "      <td>Economist, Financial Analyst &amp; Public Policy</td>\n",
       "      <td>NaN</td>\n",
       "      <td>810</td>\n",
       "      <td>199</td>\n",
       "      <td>3191</td>\n",
       "      <td>1266</td>\n",
       "      <td>RENEWED HOPE - Asiwaju Bola Tinubu’s Action Pl...</td>\n",
       "      <td>Tinubu</td>\n",
       "    </tr>\n",
       "    <tr>\n",
       "      <th>996</th>\n",
       "      <td>996</td>\n",
       "      <td>Sarkin_manomi</td>\n",
       "      <td>Budding agriculturist, investor, visionary, be...</td>\n",
       "      <td>Katsina, Nigeria.</td>\n",
       "      <td>854</td>\n",
       "      <td>155</td>\n",
       "      <td>2677</td>\n",
       "      <td>1266</td>\n",
       "      <td>RENEWED HOPE - Asiwaju Bola Tinubu’s Action Pl...</td>\n",
       "      <td>Tinubu</td>\n",
       "    </tr>\n",
       "    <tr>\n",
       "      <th>997</th>\n",
       "      <td>997</td>\n",
       "      <td>segundogbey</td>\n",
       "      <td>PLM Technology Expert. Passionate about the po...</td>\n",
       "      <td>Lagos, Nigeria</td>\n",
       "      <td>297</td>\n",
       "      <td>115</td>\n",
       "      <td>1018</td>\n",
       "      <td>1266</td>\n",
       "      <td>RENEWED HOPE - Asiwaju Bola Tinubu’s Action Pl...</td>\n",
       "      <td>Tinubu</td>\n",
       "    </tr>\n",
       "    <tr>\n",
       "      <th>998</th>\n",
       "      <td>998</td>\n",
       "      <td>Centerstrit</td>\n",
       "      <td>Politics, Opinions, Health, Entertainment &amp;  L...</td>\n",
       "      <td>Everywhere</td>\n",
       "      <td>598</td>\n",
       "      <td>577</td>\n",
       "      <td>16832</td>\n",
       "      <td>1266</td>\n",
       "      <td>RENEWED HOPE - Asiwaju Bola Tinubu’s Action Pl...</td>\n",
       "      <td>Tinubu</td>\n",
       "    </tr>\n",
       "    <tr>\n",
       "      <th>999</th>\n",
       "      <td>999</td>\n",
       "      <td>hayphyzer</td>\n",
       "      <td>You’re what you think you’re 😍</td>\n",
       "      <td>Middle of Nowhere</td>\n",
       "      <td>1817</td>\n",
       "      <td>1474</td>\n",
       "      <td>57264</td>\n",
       "      <td>1266</td>\n",
       "      <td>RENEWED HOPE - Asiwaju Bola Tinubu’s Action Pl...</td>\n",
       "      <td>Tinubu</td>\n",
       "    </tr>\n",
       "  </tbody>\n",
       "</table>\n",
       "<p>1317 rows × 10 columns</p>\n",
       "</div>"
      ],
      "text/plain": [
       "     Unnamed: 0         username  \\\n",
       "0             0        Jagunbaba   \n",
       "1             1         tae_ajet   \n",
       "2             2        oat_tracy   \n",
       "3             3      Jagaban_Olu   \n",
       "4             4  thebardogbamola   \n",
       "..          ...              ...   \n",
       "995         995       AsafaDauda   \n",
       "996         996    Sarkin_manomi   \n",
       "997         997      segundogbey   \n",
       "998         998      Centerstrit   \n",
       "999         999        hayphyzer   \n",
       "\n",
       "                                           description  \\\n",
       "0    Cool and nice fellow! Engineer, husband, fathe...   \n",
       "1                    Taciturn: The king of Poindexter•   \n",
       "2                         Have you thanked God today?🙃   \n",
       "3    Political scientist, football enthusiast and l...   \n",
       "4    Scriptwriter.\\nTechnical and copywriting.\\nPR....   \n",
       "..                                                 ...   \n",
       "995       Economist, Financial Analyst & Public Policy   \n",
       "996  Budding agriculturist, investor, visionary, be...   \n",
       "997  PLM Technology Expert. Passionate about the po...   \n",
       "998  Politics, Opinions, Health, Entertainment &  L...   \n",
       "999                     You’re what you think you’re 😍   \n",
       "\n",
       "                   location  following  followers  totaltweets  retweetcount  \\\n",
       "0           London, England       8084       9913        27247            80   \n",
       "1                     World        204        199         2554             0   \n",
       "2                      Home       1644       1701       145143           131   \n",
       "3            Lagos, Nigeria        200         53         2060            32   \n",
       "4    Somewhere in Nigeria.        5160      36806       189006             4   \n",
       "..                      ...        ...        ...          ...           ...   \n",
       "995                     NaN        810        199         3191          1266   \n",
       "996      Katsina, Nigeria.         854        155         2677          1266   \n",
       "997          Lagos, Nigeria        297        115         1018          1266   \n",
       "998              Everywhere        598        577        16832          1266   \n",
       "999       Middle of Nowhere       1817       1474        57264          1266   \n",
       "\n",
       "                                                  text candidate  \n",
       "0    If endsars wasn't particularly to end Tinubu a...    Tinubu  \n",
       "1    @OladapoSam01 @DeleFarotimi @toyinsubi @ezepei...    Tinubu  \n",
       "2    Why care about your personal income when you c...    Tinubu  \n",
       "3    Obidients don't need to hate Seyi Tinubu for o...    Tinubu  \n",
       "4    Tinubu &amp; his group of thieves are so despe...    Tinubu  \n",
       "..                                                 ...       ...  \n",
       "995  RENEWED HOPE - Asiwaju Bola Tinubu’s Action Pl...    Tinubu  \n",
       "996  RENEWED HOPE - Asiwaju Bola Tinubu’s Action Pl...    Tinubu  \n",
       "997  RENEWED HOPE - Asiwaju Bola Tinubu’s Action Pl...    Tinubu  \n",
       "998  RENEWED HOPE - Asiwaju Bola Tinubu’s Action Pl...    Tinubu  \n",
       "999  RENEWED HOPE - Asiwaju Bola Tinubu’s Action Pl...    Tinubu  \n",
       "\n",
       "[1317 rows x 10 columns]"
      ]
     },
     "execution_count": 20,
     "metadata": {},
     "output_type": "execute_result"
    }
   ],
   "source": [
    "tinubu['candidate'] = 'Tinubu'\n",
    "tinubu"
   ]
  },
  {
   "cell_type": "code",
   "execution_count": 21,
   "id": "0962c079",
   "metadata": {},
   "outputs": [
    {
     "name": "stdout",
     "output_type": "stream",
     "text": [
      "<class 'pandas.core.frame.DataFrame'>\n",
      "Int64Index: 1292 entries, 0 to 16\n",
      "Data columns (total 10 columns):\n",
      " #   Column        Non-Null Count  Dtype \n",
      "---  ------        --------------  ----- \n",
      " 0   Unnamed: 0    1292 non-null   int64 \n",
      " 1   username      1292 non-null   object\n",
      " 2   description   1116 non-null   object\n",
      " 3   location      924 non-null    object\n",
      " 4   following     1292 non-null   int64 \n",
      " 5   followers     1292 non-null   int64 \n",
      " 6   totaltweets   1292 non-null   int64 \n",
      " 7   retweetcount  1292 non-null   int64 \n",
      " 8   text          1292 non-null   object\n",
      " 9   candidate     1292 non-null   object\n",
      "dtypes: int64(5), object(5)\n",
      "memory usage: 111.0+ KB\n"
     ]
    }
   ],
   "source": [
    "peter_obi.info()"
   ]
  },
  {
   "cell_type": "code",
   "execution_count": 22,
   "id": "8a160ac0",
   "metadata": {},
   "outputs": [],
   "source": [
    "peter_obi.location.fillna('Nigeria',inplace=True)"
   ]
  },
  {
   "cell_type": "code",
   "execution_count": 23,
   "id": "2b942568",
   "metadata": {},
   "outputs": [
    {
     "name": "stdout",
     "output_type": "stream",
     "text": [
      "<class 'pandas.core.frame.DataFrame'>\n",
      "Int64Index: 1292 entries, 0 to 16\n",
      "Data columns (total 10 columns):\n",
      " #   Column        Non-Null Count  Dtype \n",
      "---  ------        --------------  ----- \n",
      " 0   Unnamed: 0    1292 non-null   int64 \n",
      " 1   username      1292 non-null   object\n",
      " 2   description   1116 non-null   object\n",
      " 3   location      1292 non-null   object\n",
      " 4   following     1292 non-null   int64 \n",
      " 5   followers     1292 non-null   int64 \n",
      " 6   totaltweets   1292 non-null   int64 \n",
      " 7   retweetcount  1292 non-null   int64 \n",
      " 8   text          1292 non-null   object\n",
      " 9   candidate     1292 non-null   object\n",
      "dtypes: int64(5), object(5)\n",
      "memory usage: 111.0+ KB\n"
     ]
    }
   ],
   "source": [
    "peter_obi.info()"
   ]
  },
  {
   "cell_type": "code",
   "execution_count": 24,
   "id": "04415a6c",
   "metadata": {},
   "outputs": [
    {
     "name": "stdout",
     "output_type": "stream",
     "text": [
      "<class 'pandas.core.frame.DataFrame'>\n",
      "Int64Index: 1317 entries, 0 to 999\n",
      "Data columns (total 10 columns):\n",
      " #   Column        Non-Null Count  Dtype \n",
      "---  ------        --------------  ----- \n",
      " 0   Unnamed: 0    1317 non-null   int64 \n",
      " 1   username      1317 non-null   object\n",
      " 2   description   1147 non-null   object\n",
      " 3   location      907 non-null    object\n",
      " 4   following     1317 non-null   int64 \n",
      " 5   followers     1317 non-null   int64 \n",
      " 6   totaltweets   1317 non-null   int64 \n",
      " 7   retweetcount  1317 non-null   int64 \n",
      " 8   text          1317 non-null   object\n",
      " 9   candidate     1317 non-null   object\n",
      "dtypes: int64(5), object(5)\n",
      "memory usage: 113.2+ KB\n"
     ]
    }
   ],
   "source": [
    "tinubu.info()"
   ]
  },
  {
   "cell_type": "code",
   "execution_count": 25,
   "id": "7c726003",
   "metadata": {},
   "outputs": [],
   "source": [
    "tinubu.location.fillna('Nigeria',inplace=True)"
   ]
  },
  {
   "cell_type": "code",
   "execution_count": 26,
   "id": "14ef8a83",
   "metadata": {},
   "outputs": [],
   "source": [
    "atiku.location.fillna('Nigeria',inplace=True)"
   ]
  },
  {
   "cell_type": "code",
   "execution_count": 27,
   "id": "d79423f1",
   "metadata": {
    "scrolled": true
   },
   "outputs": [
    {
     "data": {
      "text/html": [
       "<div>\n",
       "<style scoped>\n",
       "    .dataframe tbody tr th:only-of-type {\n",
       "        vertical-align: middle;\n",
       "    }\n",
       "\n",
       "    .dataframe tbody tr th {\n",
       "        vertical-align: top;\n",
       "    }\n",
       "\n",
       "    .dataframe thead th {\n",
       "        text-align: right;\n",
       "    }\n",
       "</style>\n",
       "<table border=\"1\" class=\"dataframe\">\n",
       "  <thead>\n",
       "    <tr style=\"text-align: right;\">\n",
       "      <th></th>\n",
       "      <th>Unnamed: 0</th>\n",
       "      <th>username</th>\n",
       "      <th>description</th>\n",
       "      <th>location</th>\n",
       "      <th>following</th>\n",
       "      <th>followers</th>\n",
       "      <th>totaltweets</th>\n",
       "      <th>retweetcount</th>\n",
       "      <th>text</th>\n",
       "      <th>candidate</th>\n",
       "    </tr>\n",
       "  </thead>\n",
       "  <tbody>\n",
       "    <tr>\n",
       "      <th>0</th>\n",
       "      <td>0</td>\n",
       "      <td>OzyBundee</td>\n",
       "      <td>I am a unique mixture of being laid back but i...</td>\n",
       "      <td>South Africa</td>\n",
       "      <td>2319</td>\n",
       "      <td>1793</td>\n",
       "      <td>31755</td>\n",
       "      <td>2334</td>\n",
       "      <td>Peter Obi know the size of River Niger, River ...</td>\n",
       "      <td>peter</td>\n",
       "    </tr>\n",
       "    <tr>\n",
       "      <th>1</th>\n",
       "      <td>1</td>\n",
       "      <td>AjikeOmoJesu</td>\n",
       "      <td>wholeheartedly Obidient and absolutely Yusful\\...</td>\n",
       "      <td>Nigeria</td>\n",
       "      <td>86</td>\n",
       "      <td>39</td>\n",
       "      <td>2247</td>\n",
       "      <td>139</td>\n",
       "      <td>Where are Agbado and Mikano boys this evening?...</td>\n",
       "      <td>peter</td>\n",
       "    </tr>\n",
       "    <tr>\n",
       "      <th>2</th>\n",
       "      <td>2</td>\n",
       "      <td>VICTORYCHIMEZI3</td>\n",
       "      <td>For the Amazing Love of GOD constrains me</td>\n",
       "      <td>Nigeria</td>\n",
       "      <td>1052</td>\n",
       "      <td>86</td>\n",
       "      <td>85</td>\n",
       "      <td>663</td>\n",
       "      <td>I will be Commander-in-Chief and I will deal w...</td>\n",
       "      <td>peter</td>\n",
       "    </tr>\n",
       "    <tr>\n",
       "      <th>3</th>\n",
       "      <td>3</td>\n",
       "      <td>goreehollar1</td>\n",
       "      <td>CEO of GREY CHEMICALS &amp; FUMIGATION SERVICES \\n...</td>\n",
       "      <td>Nigeria</td>\n",
       "      <td>906</td>\n",
       "      <td>3245</td>\n",
       "      <td>67173</td>\n",
       "      <td>461</td>\n",
       "      <td>According to Steve of Arise News TV, lots of N...</td>\n",
       "      <td>peter</td>\n",
       "    </tr>\n",
       "    <tr>\n",
       "      <th>4</th>\n",
       "      <td>4</td>\n",
       "      <td>Pius55739256</td>\n",
       "      <td>I want to do it again and again, as long as I ...</td>\n",
       "      <td>Federal Capital Territory, Nig</td>\n",
       "      <td>336</td>\n",
       "      <td>112</td>\n",
       "      <td>3418</td>\n",
       "      <td>819</td>\n",
       "      <td>When you listen to Peter Obi, you won’t need a...</td>\n",
       "      <td>peter</td>\n",
       "    </tr>\n",
       "    <tr>\n",
       "      <th>...</th>\n",
       "      <td>...</td>\n",
       "      <td>...</td>\n",
       "      <td>...</td>\n",
       "      <td>...</td>\n",
       "      <td>...</td>\n",
       "      <td>...</td>\n",
       "      <td>...</td>\n",
       "      <td>...</td>\n",
       "      <td>...</td>\n",
       "      <td>...</td>\n",
       "    </tr>\n",
       "    <tr>\n",
       "      <th>995</th>\n",
       "      <td>995</td>\n",
       "      <td>AsafaDauda</td>\n",
       "      <td>Economist, Financial Analyst &amp; Public Policy</td>\n",
       "      <td>Nigeria</td>\n",
       "      <td>810</td>\n",
       "      <td>199</td>\n",
       "      <td>3191</td>\n",
       "      <td>1266</td>\n",
       "      <td>RENEWED HOPE - Asiwaju Bola Tinubu’s Action Pl...</td>\n",
       "      <td>Tinubu</td>\n",
       "    </tr>\n",
       "    <tr>\n",
       "      <th>996</th>\n",
       "      <td>996</td>\n",
       "      <td>Sarkin_manomi</td>\n",
       "      <td>Budding agriculturist, investor, visionary, be...</td>\n",
       "      <td>Katsina, Nigeria.</td>\n",
       "      <td>854</td>\n",
       "      <td>155</td>\n",
       "      <td>2677</td>\n",
       "      <td>1266</td>\n",
       "      <td>RENEWED HOPE - Asiwaju Bola Tinubu’s Action Pl...</td>\n",
       "      <td>Tinubu</td>\n",
       "    </tr>\n",
       "    <tr>\n",
       "      <th>997</th>\n",
       "      <td>997</td>\n",
       "      <td>segundogbey</td>\n",
       "      <td>PLM Technology Expert. Passionate about the po...</td>\n",
       "      <td>Lagos, Nigeria</td>\n",
       "      <td>297</td>\n",
       "      <td>115</td>\n",
       "      <td>1018</td>\n",
       "      <td>1266</td>\n",
       "      <td>RENEWED HOPE - Asiwaju Bola Tinubu’s Action Pl...</td>\n",
       "      <td>Tinubu</td>\n",
       "    </tr>\n",
       "    <tr>\n",
       "      <th>998</th>\n",
       "      <td>998</td>\n",
       "      <td>Centerstrit</td>\n",
       "      <td>Politics, Opinions, Health, Entertainment &amp;  L...</td>\n",
       "      <td>Everywhere</td>\n",
       "      <td>598</td>\n",
       "      <td>577</td>\n",
       "      <td>16832</td>\n",
       "      <td>1266</td>\n",
       "      <td>RENEWED HOPE - Asiwaju Bola Tinubu’s Action Pl...</td>\n",
       "      <td>Tinubu</td>\n",
       "    </tr>\n",
       "    <tr>\n",
       "      <th>999</th>\n",
       "      <td>999</td>\n",
       "      <td>hayphyzer</td>\n",
       "      <td>You’re what you think you’re 😍</td>\n",
       "      <td>Middle of Nowhere</td>\n",
       "      <td>1817</td>\n",
       "      <td>1474</td>\n",
       "      <td>57264</td>\n",
       "      <td>1266</td>\n",
       "      <td>RENEWED HOPE - Asiwaju Bola Tinubu’s Action Pl...</td>\n",
       "      <td>Tinubu</td>\n",
       "    </tr>\n",
       "  </tbody>\n",
       "</table>\n",
       "<p>3397 rows × 10 columns</p>\n",
       "</div>"
      ],
      "text/plain": [
       "     Unnamed: 0         username  \\\n",
       "0             0        OzyBundee   \n",
       "1             1     AjikeOmoJesu   \n",
       "2             2  VICTORYCHIMEZI3   \n",
       "3             3     goreehollar1   \n",
       "4             4     Pius55739256   \n",
       "..          ...              ...   \n",
       "995         995       AsafaDauda   \n",
       "996         996    Sarkin_manomi   \n",
       "997         997      segundogbey   \n",
       "998         998      Centerstrit   \n",
       "999         999        hayphyzer   \n",
       "\n",
       "                                           description  \\\n",
       "0    I am a unique mixture of being laid back but i...   \n",
       "1    wholeheartedly Obidient and absolutely Yusful\\...   \n",
       "2            For the Amazing Love of GOD constrains me   \n",
       "3    CEO of GREY CHEMICALS & FUMIGATION SERVICES \\n...   \n",
       "4    I want to do it again and again, as long as I ...   \n",
       "..                                                 ...   \n",
       "995       Economist, Financial Analyst & Public Policy   \n",
       "996  Budding agriculturist, investor, visionary, be...   \n",
       "997  PLM Technology Expert. Passionate about the po...   \n",
       "998  Politics, Opinions, Health, Entertainment &  L...   \n",
       "999                     You’re what you think you’re 😍   \n",
       "\n",
       "                           location  following  followers  totaltweets  \\\n",
       "0                      South Africa       2319       1793        31755   \n",
       "1                           Nigeria         86         39         2247   \n",
       "2                           Nigeria       1052         86           85   \n",
       "3                           Nigeria        906       3245        67173   \n",
       "4    Federal Capital Territory, Nig        336        112         3418   \n",
       "..                              ...        ...        ...          ...   \n",
       "995                         Nigeria        810        199         3191   \n",
       "996              Katsina, Nigeria.         854        155         2677   \n",
       "997                  Lagos, Nigeria        297        115         1018   \n",
       "998                      Everywhere        598        577        16832   \n",
       "999               Middle of Nowhere       1817       1474        57264   \n",
       "\n",
       "     retweetcount                                               text candidate  \n",
       "0            2334  Peter Obi know the size of River Niger, River ...     peter  \n",
       "1             139  Where are Agbado and Mikano boys this evening?...     peter  \n",
       "2             663  I will be Commander-in-Chief and I will deal w...     peter  \n",
       "3             461  According to Steve of Arise News TV, lots of N...     peter  \n",
       "4             819  When you listen to Peter Obi, you won’t need a...     peter  \n",
       "..            ...                                                ...       ...  \n",
       "995          1266  RENEWED HOPE - Asiwaju Bola Tinubu’s Action Pl...    Tinubu  \n",
       "996          1266  RENEWED HOPE - Asiwaju Bola Tinubu’s Action Pl...    Tinubu  \n",
       "997          1266  RENEWED HOPE - Asiwaju Bola Tinubu’s Action Pl...    Tinubu  \n",
       "998          1266  RENEWED HOPE - Asiwaju Bola Tinubu’s Action Pl...    Tinubu  \n",
       "999          1266  RENEWED HOPE - Asiwaju Bola Tinubu’s Action Pl...    Tinubu  \n",
       "\n",
       "[3397 rows x 10 columns]"
      ]
     },
     "execution_count": 27,
     "metadata": {},
     "output_type": "execute_result"
    }
   ],
   "source": [
    "data_mixed = pd.concat([peter_obi,atiku])\n",
    "#data_mixed.sort_values(by='created_at')\n",
    "data_mixed = pd.concat([data_mixed,tinubu])\n",
    "data_mixed"
   ]
  },
  {
   "cell_type": "code",
   "execution_count": 28,
   "id": "b7b30621",
   "metadata": {},
   "outputs": [
    {
     "data": {
      "image/png": "[encoded data removed]",
      "text/plain": [
       "<Figure size 432x288 with 1 Axes>"
      ]
     },
     "metadata": {
      "needs_background": "light"
     },
     "output_type": "display_data"
    }
   ],
   "source": [
    "# check the number of tweets recieved for each of them\n",
    "data_mixed.groupby('candidate')['text'].count().plot.bar()\n",
    "plt.ylabel('number of tweets')\n",
    "plt.title('Plot showing number of tweets between Atiku vs Peter vs Tinubu')\n",
    "plt.show()"
   ]
  },
  {
   "cell_type": "code",
   "execution_count": 29,
   "id": "ed1157be",
   "metadata": {},
   "outputs": [
    {
     "data": {
      "text/plain": [
       "Nigeria                           1415\n",
       "Lagos, Nigeria                     317\n",
       "Abuja, Nigeria                      87\n",
       "Lagos                               49\n",
       "Federal Capital Territory, Nig      44\n",
       "                                  ... \n",
       "Heaven                               1\n",
       "Rochdale, 🇬🇧 England                 1\n",
       "Somolu Lagos                         1\n",
       "Heart of the city                    1\n",
       "Middle of Nowhere                    1\n",
       "Name: location, Length: 747, dtype: int64"
      ]
     },
     "execution_count": 29,
     "metadata": {},
     "output_type": "execute_result"
    }
   ],
   "source": [
    "data_mixed.location.value_counts()"
   ]
  },
  {
   "cell_type": "code",
   "execution_count": 30,
   "id": "1dc1652d",
   "metadata": {},
   "outputs": [],
   "source": [
    "data_mixed['location']= data_mixed['location'].replace({\"Lagos, Nigeria\":\"Nigeria\",\"Federal Capital Territory, Nig\":\"Nigeria\",\"Abuja, Nigeria\":\"Nigeria\", \"Lagos Nigeria\":\"Nigeria\",\"Kaduna, Nigeria\":\"Nigeria\",\"Lagos\":\"Nigeria\",\"Abuja\":\"Nigeria\",\"Abuja,nigeria\":\"Nigeria\",\"Abuja / Kebbi / Lagos\":\"Nigeria\",\"Onicha, Ebonyi\":\"Nigeria\"})"
   ]
  },
  {
   "cell_type": "code",
   "execution_count": 31,
   "id": "2735fcc9",
   "metadata": {},
   "outputs": [
    {
     "data": {
      "text/plain": [
       "Nigeria                       1979\n",
       "Africa                          32\n",
       "Earth                           28\n",
       "Global Citizen                  25\n",
       "🌟 STARBOY 🌹                     23\n",
       "                              ... \n",
       "Blue Earth, MN                   1\n",
       "Abuja Nigeria, Rome Italy.       1\n",
       "Your heart                       1\n",
       "Jamaica                          1\n",
       "Middle of Nowhere                1\n",
       "Name: location, Length: 737, dtype: int64"
      ]
     },
     "execution_count": 31,
     "metadata": {},
     "output_type": "execute_result"
    }
   ],
   "source": [
    "data_mixed.location.value_counts()"
   ]
  },
  {
   "cell_type": "code",
   "execution_count": 32,
   "id": "b8e8b783",
   "metadata": {},
   "outputs": [
    {
     "data": {
      "image/png": "[encoded data removed]",
      "text/plain": [
       "<Figure size 720x360 with 1 Axes>"
      ]
     },
     "metadata": {
      "needs_background": "light"
     },
     "output_type": "display_data"
    }
   ],
   "source": [
    "# countries with highest number of tweets\n",
    "plt.figure(figsize=(10,5))\n",
    "data_mixed.groupby('location')['text'].count().sort_values(ascending=False).head(10).plot.bar()\n",
    "plt.ylabel('Number of tweets')\n",
    "plt.title('top countries with highest number of tweets')\n",
    "plt.show()"
   ]
  },
  {
   "cell_type": "markdown",
   "id": "e027bbc2",
   "metadata": {},
   "source": [
    "# Sentiment analysis of presidential elections"
   ]
  },
  {
   "cell_type": "code",
   "execution_count": 33,
   "id": "c4ddbcde",
   "metadata": {},
   "outputs": [],
   "source": [
    "lm = WordNetLemmatizer()"
   ]
  },
  {
   "cell_type": "code",
   "execution_count": 34,
   "id": "ac9dec2c",
   "metadata": {},
   "outputs": [],
   "source": [
    "def clean(text):\n",
    "    text = str(text).lower()\n",
    "    text = re.sub('[^a-z]',' ',str(text))\n",
    "    text = text.split()\n",
    "    text = [lm.lemmatize(j) for j in text if j not in set(stopwords.words('english'))]\n",
    "    text = ' '.join(str(k) for k in text)\n",
    "    return text"
   ]
  },
  {
   "cell_type": "code",
   "execution_count": 35,
   "id": "217a669c",
   "metadata": {},
   "outputs": [],
   "source": [
    "def getsubjectivity(text):\n",
    "    return TextBlob(text).sentiment.subjectivity\n",
    "def getpolarity(text):\n",
    "    return TextBlob(text).sentiment.polarity\n",
    "def getAnalysis(score):\n",
    "    if score <0:\n",
    "        return 'negative'\n",
    "    elif score == 0:\n",
    "        return 'neutral'\n",
    "    else:\n",
    "        return 'positive'"
   ]
  },
  {
   "cell_type": "markdown",
   "id": "4bbca7bf",
   "metadata": {},
   "source": [
    "# Peter Obi tweets sentiment analysis"
   ]
  },
  {
   "cell_type": "code",
   "execution_count": 36,
   "id": "1ba5f84e",
   "metadata": {},
   "outputs": [],
   "source": [
    "peter_obi.location.fillna('Nigeria',inplace=True)"
   ]
  },
  {
   "cell_type": "code",
   "execution_count": 37,
   "id": "1cadf114",
   "metadata": {},
   "outputs": [],
   "source": [
    "peter_obi = data_mixed.query('(candidate == \"peter\")').sort_values('followers',ascending=False).drop_duplicates(['username','text'])[['text','location']]\n",
    "peter_obi = peter_obi.dropna().loc[peter_obi.location =='Nigeria']\n",
    "peter_obi.reset_index(inplace = True ,drop =True)"
   ]
  },
  {
   "cell_type": "code",
   "execution_count": 38,
   "id": "77a8052d",
   "metadata": {},
   "outputs": [
    {
     "data": {
      "text/html": [
       "<div>\n",
       "<style scoped>\n",
       "    .dataframe tbody tr th:only-of-type {\n",
       "        vertical-align: middle;\n",
       "    }\n",
       "\n",
       "    .dataframe tbody tr th {\n",
       "        vertical-align: top;\n",
       "    }\n",
       "\n",
       "    .dataframe thead th {\n",
       "        text-align: right;\n",
       "    }\n",
       "</style>\n",
       "<table border=\"1\" class=\"dataframe\">\n",
       "  <thead>\n",
       "    <tr style=\"text-align: right;\">\n",
       "      <th></th>\n",
       "      <th>text</th>\n",
       "      <th>location</th>\n",
       "    </tr>\n",
       "  </thead>\n",
       "  <tbody>\n",
       "    <tr>\n",
       "      <th>0</th>\n",
       "      <td>Reuben Abati’s question to Peter obi pertainin...</td>\n",
       "      <td>Nigeria</td>\n",
       "    </tr>\n",
       "    <tr>\n",
       "      <th>1</th>\n",
       "      <td>Gist 101: A thread 👇\\nSo I was in this Salon e...</td>\n",
       "      <td>Nigeria</td>\n",
       "    </tr>\n",
       "    <tr>\n",
       "      <th>2</th>\n",
       "      <td>Peter Obi in 2010 was ICT Governor of the Year...</td>\n",
       "      <td>Nigeria</td>\n",
       "    </tr>\n",
       "    <tr>\n",
       "      <th>3</th>\n",
       "      <td>This is how you can convince me to vote for yo...</td>\n",
       "      <td>Nigeria</td>\n",
       "    </tr>\n",
       "    <tr>\n",
       "      <th>4</th>\n",
       "      <td>Banking halls in Nigeria became football viewi...</td>\n",
       "      <td>Nigeria</td>\n",
       "    </tr>\n",
       "    <tr>\n",
       "      <th>...</th>\n",
       "      <td>...</td>\n",
       "      <td>...</td>\n",
       "    </tr>\n",
       "    <tr>\n",
       "      <th>743</th>\n",
       "      <td>On my watch those who steal government money w...</td>\n",
       "      <td>Nigeria</td>\n",
       "    </tr>\n",
       "    <tr>\n",
       "      <th>744</th>\n",
       "      <td>This brought tears to my eyes. I think Peter O...</td>\n",
       "      <td>Nigeria</td>\n",
       "    </tr>\n",
       "    <tr>\n",
       "      <th>745</th>\n",
       "      <td>‘If You Put A Gun To My Head, I Won’t Reveal H...</td>\n",
       "      <td>Nigeria</td>\n",
       "    </tr>\n",
       "    <tr>\n",
       "      <th>746</th>\n",
       "      <td>‘If You Put A Gun To My Head, I Won’t Reveal H...</td>\n",
       "      <td>Nigeria</td>\n",
       "    </tr>\n",
       "    <tr>\n",
       "      <th>747</th>\n",
       "      <td>\"I was the first Governor ever in Nigeria to a...</td>\n",
       "      <td>Nigeria</td>\n",
       "    </tr>\n",
       "  </tbody>\n",
       "</table>\n",
       "<p>748 rows × 2 columns</p>\n",
       "</div>"
      ],
      "text/plain": [
       "                                                  text location\n",
       "0    Reuben Abati’s question to Peter obi pertainin...  Nigeria\n",
       "1    Gist 101: A thread 👇\\nSo I was in this Salon e...  Nigeria\n",
       "2    Peter Obi in 2010 was ICT Governor of the Year...  Nigeria\n",
       "3    This is how you can convince me to vote for yo...  Nigeria\n",
       "4    Banking halls in Nigeria became football viewi...  Nigeria\n",
       "..                                                 ...      ...\n",
       "743  On my watch those who steal government money w...  Nigeria\n",
       "744  This brought tears to my eyes. I think Peter O...  Nigeria\n",
       "745  ‘If You Put A Gun To My Head, I Won’t Reveal H...  Nigeria\n",
       "746  ‘If You Put A Gun To My Head, I Won’t Reveal H...  Nigeria\n",
       "747  \"I was the first Governor ever in Nigeria to a...  Nigeria\n",
       "\n",
       "[748 rows x 2 columns]"
      ]
     },
     "execution_count": 38,
     "metadata": {},
     "output_type": "execute_result"
    }
   ],
   "source": [
    "peter_obi"
   ]
  },
  {
   "cell_type": "code",
   "execution_count": 39,
   "id": "c8fda67c",
   "metadata": {},
   "outputs": [],
   "source": [
    "peter_obi['cleantext'] = peter_obi['text'].apply(clean)"
   ]
  },
  {
   "cell_type": "code",
   "execution_count": 40,
   "id": "bfa51774",
   "metadata": {},
   "outputs": [],
   "source": [
    "peter_obi['subjectivity'] = peter_obi['cleantext'].apply(getsubjectivity)"
   ]
  },
  {
   "cell_type": "code",
   "execution_count": 41,
   "id": "14ac23bd",
   "metadata": {},
   "outputs": [],
   "source": [
    "peter_obi['polarity'] = peter_obi['cleantext'].apply(getpolarity)"
   ]
  },
  {
   "cell_type": "code",
   "execution_count": 42,
   "id": "8a5752d2",
   "metadata": {},
   "outputs": [],
   "source": [
    "peter_obi['analysis'] = peter_obi['polarity'].apply(getAnalysis)"
   ]
  },
  {
   "cell_type": "code",
   "execution_count": 43,
   "id": "be53da61",
   "metadata": {},
   "outputs": [
    {
     "data": {
      "text/html": [
       "<div>\n",
       "<style scoped>\n",
       "    .dataframe tbody tr th:only-of-type {\n",
       "        vertical-align: middle;\n",
       "    }\n",
       "\n",
       "    .dataframe tbody tr th {\n",
       "        vertical-align: top;\n",
       "    }\n",
       "\n",
       "    .dataframe thead th {\n",
       "        text-align: right;\n",
       "    }\n",
       "</style>\n",
       "<table border=\"1\" class=\"dataframe\">\n",
       "  <thead>\n",
       "    <tr style=\"text-align: right;\">\n",
       "      <th></th>\n",
       "      <th>text</th>\n",
       "      <th>location</th>\n",
       "      <th>cleantext</th>\n",
       "      <th>subjectivity</th>\n",
       "      <th>polarity</th>\n",
       "      <th>analysis</th>\n",
       "    </tr>\n",
       "  </thead>\n",
       "  <tbody>\n",
       "    <tr>\n",
       "      <th>0</th>\n",
       "      <td>Reuben Abati’s question to Peter obi pertainin...</td>\n",
       "      <td>Nigeria</td>\n",
       "      <td>reuben abati question peter obi pertaining pri...</td>\n",
       "      <td>0.241667</td>\n",
       "      <td>0.116667</td>\n",
       "      <td>positive</td>\n",
       "    </tr>\n",
       "    <tr>\n",
       "      <th>1</th>\n",
       "      <td>Gist 101: A thread 👇\\nSo I was in this Salon e...</td>\n",
       "      <td>Nigeria</td>\n",
       "      <td>gist thread salon earlier today playing petero...</td>\n",
       "      <td>0.250000</td>\n",
       "      <td>0.000000</td>\n",
       "      <td>neutral</td>\n",
       "    </tr>\n",
       "    <tr>\n",
       "      <th>2</th>\n",
       "      <td>Peter Obi in 2010 was ICT Governor of the Year...</td>\n",
       "      <td>Nigeria</td>\n",
       "      <td>peter obi ict governor year west africa ict de...</td>\n",
       "      <td>0.000000</td>\n",
       "      <td>0.000000</td>\n",
       "      <td>neutral</td>\n",
       "    </tr>\n",
       "    <tr>\n",
       "      <th>3</th>\n",
       "      <td>This is how you can convince me to vote for yo...</td>\n",
       "      <td>Nigeria</td>\n",
       "      <td>convince vote candidate fkeyamo bring party ma...</td>\n",
       "      <td>0.000000</td>\n",
       "      <td>0.000000</td>\n",
       "      <td>neutral</td>\n",
       "    </tr>\n",
       "    <tr>\n",
       "      <th>4</th>\n",
       "      <td>Banking halls in Nigeria became football viewi...</td>\n",
       "      <td>Nigeria</td>\n",
       "      <td>banking hall nigeria became football viewing c...</td>\n",
       "      <td>0.100000</td>\n",
       "      <td>-0.100000</td>\n",
       "      <td>negative</td>\n",
       "    </tr>\n",
       "    <tr>\n",
       "      <th>...</th>\n",
       "      <td>...</td>\n",
       "      <td>...</td>\n",
       "      <td>...</td>\n",
       "      <td>...</td>\n",
       "      <td>...</td>\n",
       "      <td>...</td>\n",
       "    </tr>\n",
       "    <tr>\n",
       "      <th>743</th>\n",
       "      <td>On my watch those who steal government money w...</td>\n",
       "      <td>Nigeria</td>\n",
       "      <td>watch steal government money meet bargain pete...</td>\n",
       "      <td>0.000000</td>\n",
       "      <td>0.000000</td>\n",
       "      <td>neutral</td>\n",
       "    </tr>\n",
       "    <tr>\n",
       "      <th>744</th>\n",
       "      <td>This brought tears to my eyes. I think Peter O...</td>\n",
       "      <td>Nigeria</td>\n",
       "      <td>brought tear eye think peter obi decision issu...</td>\n",
       "      <td>0.650000</td>\n",
       "      <td>0.275000</td>\n",
       "      <td>positive</td>\n",
       "    </tr>\n",
       "    <tr>\n",
       "      <th>745</th>\n",
       "      <td>‘If You Put A Gun To My Head, I Won’t Reveal H...</td>\n",
       "      <td>Nigeria</td>\n",
       "      <td>put gun head reveal going deal insecurity nige...</td>\n",
       "      <td>0.000000</td>\n",
       "      <td>0.000000</td>\n",
       "      <td>neutral</td>\n",
       "    </tr>\n",
       "    <tr>\n",
       "      <th>746</th>\n",
       "      <td>‘If You Put A Gun To My Head, I Won’t Reveal H...</td>\n",
       "      <td>Nigeria</td>\n",
       "      <td>put gun head reveal going deal insecurity nige...</td>\n",
       "      <td>0.000000</td>\n",
       "      <td>0.000000</td>\n",
       "      <td>neutral</td>\n",
       "    </tr>\n",
       "    <tr>\n",
       "      <th>747</th>\n",
       "      <td>\"I was the first Governor ever in Nigeria to a...</td>\n",
       "      <td>Nigeria</td>\n",
       "      <td>first governor ever nigeria approach unhabitat...</td>\n",
       "      <td>0.340278</td>\n",
       "      <td>-0.020833</td>\n",
       "      <td>negative</td>\n",
       "    </tr>\n",
       "  </tbody>\n",
       "</table>\n",
       "<p>748 rows × 6 columns</p>\n",
       "</div>"
      ],
      "text/plain": [
       "                                                  text location  \\\n",
       "0    Reuben Abati’s question to Peter obi pertainin...  Nigeria   \n",
       "1    Gist 101: A thread 👇\\nSo I was in this Salon e...  Nigeria   \n",
       "2    Peter Obi in 2010 was ICT Governor of the Year...  Nigeria   \n",
       "3    This is how you can convince me to vote for yo...  Nigeria   \n",
       "4    Banking halls in Nigeria became football viewi...  Nigeria   \n",
       "..                                                 ...      ...   \n",
       "743  On my watch those who steal government money w...  Nigeria   \n",
       "744  This brought tears to my eyes. I think Peter O...  Nigeria   \n",
       "745  ‘If You Put A Gun To My Head, I Won’t Reveal H...  Nigeria   \n",
       "746  ‘If You Put A Gun To My Head, I Won’t Reveal H...  Nigeria   \n",
       "747  \"I was the first Governor ever in Nigeria to a...  Nigeria   \n",
       "\n",
       "                                             cleantext  subjectivity  \\\n",
       "0    reuben abati question peter obi pertaining pri...      0.241667   \n",
       "1    gist thread salon earlier today playing petero...      0.250000   \n",
       "2    peter obi ict governor year west africa ict de...      0.000000   \n",
       "3    convince vote candidate fkeyamo bring party ma...      0.000000   \n",
       "4    banking hall nigeria became football viewing c...      0.100000   \n",
       "..                                                 ...           ...   \n",
       "743  watch steal government money meet bargain pete...      0.000000   \n",
       "744  brought tear eye think peter obi decision issu...      0.650000   \n",
       "745  put gun head reveal going deal insecurity nige...      0.000000   \n",
       "746  put gun head reveal going deal insecurity nige...      0.000000   \n",
       "747  first governor ever nigeria approach unhabitat...      0.340278   \n",
       "\n",
       "     polarity  analysis  \n",
       "0    0.116667  positive  \n",
       "1    0.000000   neutral  \n",
       "2    0.000000   neutral  \n",
       "3    0.000000   neutral  \n",
       "4   -0.100000  negative  \n",
       "..        ...       ...  \n",
       "743  0.000000   neutral  \n",
       "744  0.275000  positive  \n",
       "745  0.000000   neutral  \n",
       "746  0.000000   neutral  \n",
       "747 -0.020833  negative  \n",
       "\n",
       "[748 rows x 6 columns]"
      ]
     },
     "execution_count": 43,
     "metadata": {},
     "output_type": "execute_result"
    }
   ],
   "source": [
    "peter_obi"
   ]
  },
  {
   "cell_type": "code",
   "execution_count": 44,
   "id": "c0593e5f",
   "metadata": {},
   "outputs": [
    {
     "data": {
      "text/plain": [
       "positive    39.304813\n",
       "negative    35.427807\n",
       "neutral     25.267380\n",
       "Name: analysis, dtype: float64"
      ]
     },
     "execution_count": 44,
     "metadata": {},
     "output_type": "execute_result"
    }
   ],
   "source": [
    "peter_obi.analysis.value_counts(normalize=True)*100"
   ]
  },
  {
   "cell_type": "code",
   "execution_count": 45,
   "id": "806448e3",
   "metadata": {},
   "outputs": [
    {
     "data": {
      "image/png": "[encoded data removed]",
      "text/plain": [
       "<Figure size 720x360 with 1 Axes>"
      ]
     },
     "metadata": {
      "needs_background": "light"
     },
     "output_type": "display_data"
    }
   ],
   "source": [
    "#Plot graph for analysis of trump tweets\n",
    "plt.figure(figsize=(10,5))\n",
    "(peter_obi.analysis.value_counts(normalize=True)*100).plot.bar()\n",
    "plt.ylabel(\"%age of tweets\")\n",
    "plt.show()"
   ]
  },
  {
   "cell_type": "code",
   "execution_count": 46,
   "id": "481f65a4",
   "metadata": {},
   "outputs": [
    {
     "data": {
      "image/png": "[encoded data removed]",
      "text/plain": [
       "<Figure size 864x720 with 1 Axes>"
      ]
     },
     "metadata": {
      "needs_background": "light"
     },
     "output_type": "display_data"
    }
   ],
   "source": [
    "from wordcloud import WordCloud, STOPWORDS\n",
    "def word_cloud(wd_list):\n",
    "    stopwords = set(STOPWORDS)\n",
    "    all_words = ' '.join([text for text in wd_list])\n",
    "    wordcloud = WordCloud(background_color='white',\n",
    "                         stopwords= stopwords,\n",
    "                         width = 1600,height=800,\n",
    "                         random_state=1,\n",
    "                         colormap='jet',\n",
    "                         max_words=50,\n",
    "                         max_font_size=200).generate(all_words)\n",
    "    plt.figure(figsize=(12,10))\n",
    "    plt.axis('off')\n",
    "    plt.imshow(wordcloud)\n",
    "word_cloud(peter_obi['text'][:1000])"
   ]
  },
  {
   "cell_type": "markdown",
   "id": "a1333814",
   "metadata": {},
   "source": [
    "# Atiku sentiment analysis"
   ]
  },
  {
   "cell_type": "code",
   "execution_count": 47,
   "id": "b1d60d32",
   "metadata": {},
   "outputs": [],
   "source": [
    "atiku = data_mixed.query('(candidate == \"Atiku\")').sort_values('followers',ascending=False).drop_duplicates(['username','text'])[['text','location']]\n",
    "atiku = atiku.dropna().loc[atiku.location =='Nigeria']\n",
    "atiku.reset_index(inplace = True ,drop =True)"
   ]
  },
  {
   "cell_type": "code",
   "execution_count": 48,
   "id": "f9ee82fe",
   "metadata": {
    "scrolled": true
   },
   "outputs": [
    {
     "data": {
      "text/html": [
       "<div>\n",
       "<style scoped>\n",
       "    .dataframe tbody tr th:only-of-type {\n",
       "        vertical-align: middle;\n",
       "    }\n",
       "\n",
       "    .dataframe tbody tr th {\n",
       "        vertical-align: top;\n",
       "    }\n",
       "\n",
       "    .dataframe thead th {\n",
       "        text-align: right;\n",
       "    }\n",
       "</style>\n",
       "<table border=\"1\" class=\"dataframe\">\n",
       "  <thead>\n",
       "    <tr style=\"text-align: right;\">\n",
       "      <th></th>\n",
       "      <th>text</th>\n",
       "      <th>location</th>\n",
       "    </tr>\n",
       "  </thead>\n",
       "  <tbody>\n",
       "    <tr>\n",
       "      <th>0</th>\n",
       "      <td>Atiku Abubakar, the presidential candidate of ...</td>\n",
       "      <td>Nigeria</td>\n",
       "    </tr>\n",
       "    <tr>\n",
       "      <th>1</th>\n",
       "      <td>2023: Don't trust Fayose, PDP group tells Atik...</td>\n",
       "      <td>Nigeria</td>\n",
       "    </tr>\n",
       "    <tr>\n",
       "      <th>2</th>\n",
       "      <td>PDP: Stakes in 2023 election are high - Atiku ...</td>\n",
       "      <td>Nigeria</td>\n",
       "    </tr>\n",
       "    <tr>\n",
       "      <th>3</th>\n",
       "      <td>PDP: Stakes in 2023 election are high – Atiku ...</td>\n",
       "      <td>Nigeria</td>\n",
       "    </tr>\n",
       "    <tr>\n",
       "      <th>4</th>\n",
       "      <td>Atiku Back from France, Set for Edo Rally Toda...</td>\n",
       "      <td>Nigeria</td>\n",
       "    </tr>\n",
       "    <tr>\n",
       "      <th>...</th>\n",
       "      <td>...</td>\n",
       "      <td>...</td>\n",
       "    </tr>\n",
       "    <tr>\n",
       "      <th>441</th>\n",
       "      <td>@u_uzah @PO_GrassRootM Grassroots electorates,...</td>\n",
       "      <td>Nigeria</td>\n",
       "    </tr>\n",
       "    <tr>\n",
       "      <th>442</th>\n",
       "      <td>Just broke my heart. Bad governance did this, ...</td>\n",
       "      <td>Nigeria</td>\n",
       "    </tr>\n",
       "    <tr>\n",
       "      <th>443</th>\n",
       "      <td>@renoomokri Nigerians should watch Atiku. Imme...</td>\n",
       "      <td>Nigeria</td>\n",
       "    </tr>\n",
       "    <tr>\n",
       "      <th>444</th>\n",
       "      <td>2023 ELECTION, ATIKU SUPPORT 85,000 HAS BEEN A...</td>\n",
       "      <td>Nigeria</td>\n",
       "    </tr>\n",
       "    <tr>\n",
       "      <th>445</th>\n",
       "      <td>In July 2018, Joe Blankson swam 13 times and r...</td>\n",
       "      <td>Nigeria</td>\n",
       "    </tr>\n",
       "  </tbody>\n",
       "</table>\n",
       "<p>446 rows × 2 columns</p>\n",
       "</div>"
      ],
      "text/plain": [
       "                                                  text location\n",
       "0    Atiku Abubakar, the presidential candidate of ...  Nigeria\n",
       "1    2023: Don't trust Fayose, PDP group tells Atik...  Nigeria\n",
       "2    PDP: Stakes in 2023 election are high - Atiku ...  Nigeria\n",
       "3    PDP: Stakes in 2023 election are high – Atiku ...  Nigeria\n",
       "4    Atiku Back from France, Set for Edo Rally Toda...  Nigeria\n",
       "..                                                 ...      ...\n",
       "441  @u_uzah @PO_GrassRootM Grassroots electorates,...  Nigeria\n",
       "442  Just broke my heart. Bad governance did this, ...  Nigeria\n",
       "443  @renoomokri Nigerians should watch Atiku. Imme...  Nigeria\n",
       "444  2023 ELECTION, ATIKU SUPPORT 85,000 HAS BEEN A...  Nigeria\n",
       "445  In July 2018, Joe Blankson swam 13 times and r...  Nigeria\n",
       "\n",
       "[446 rows x 2 columns]"
      ]
     },
     "execution_count": 48,
     "metadata": {},
     "output_type": "execute_result"
    }
   ],
   "source": [
    "atiku"
   ]
  },
  {
   "cell_type": "code",
   "execution_count": 49,
   "id": "5d6ff4d1",
   "metadata": {},
   "outputs": [],
   "source": [
    "atiku['cleantext'] = atiku['text'].apply(clean)"
   ]
  },
  {
   "cell_type": "code",
   "execution_count": 50,
   "id": "c11958f2",
   "metadata": {},
   "outputs": [],
   "source": [
    "atiku['subjectivity'] = atiku['cleantext'].apply(getsubjectivity)"
   ]
  },
  {
   "cell_type": "code",
   "execution_count": 51,
   "id": "9d8fbf30",
   "metadata": {},
   "outputs": [],
   "source": [
    "atiku['polarity'] = atiku['cleantext'].apply(getpolarity)"
   ]
  },
  {
   "cell_type": "code",
   "execution_count": 52,
   "id": "283c4a52",
   "metadata": {},
   "outputs": [],
   "source": [
    "atiku['analysis'] = atiku['polarity'].apply(getAnalysis)"
   ]
  },
  {
   "cell_type": "code",
   "execution_count": 53,
   "id": "0232d5c8",
   "metadata": {},
   "outputs": [
    {
     "data": {
      "text/plain": [
       "positive    42.152466\n",
       "neutral     39.013453\n",
       "negative    18.834081\n",
       "Name: analysis, dtype: float64"
      ]
     },
     "execution_count": 53,
     "metadata": {},
     "output_type": "execute_result"
    }
   ],
   "source": [
    "atiku.analysis.value_counts(normalize=True)*100"
   ]
  },
  {
   "cell_type": "code",
   "execution_count": 54,
   "id": "02c47344",
   "metadata": {},
   "outputs": [
    {
     "data": {
      "image/png": "[encoded data removed]",
      "text/plain": [
       "<Figure size 720x360 with 1 Axes>"
      ]
     },
     "metadata": {
      "needs_background": "light"
     },
     "output_type": "display_data"
    }
   ],
   "source": [
    "#Plot graph for analysis of trump tweets\n",
    "plt.figure(figsize=(10,5))\n",
    "(atiku.analysis.value_counts(normalize=True)*100).plot.bar()\n",
    "plt.ylabel(\"%age of tweets\")\n",
    "plt.show()"
   ]
  },
  {
   "cell_type": "markdown",
   "id": "0ceb04cc",
   "metadata": {},
   "source": [
    "# Tinubu Sentiment Analysis"
   ]
  },
  {
   "cell_type": "code",
   "execution_count": 55,
   "id": "ead47b0f",
   "metadata": {},
   "outputs": [],
   "source": [
    "tinubu = data_mixed.query('(candidate == \"Tinubu\")').sort_values('followers',ascending=False).drop_duplicates(['username','text'])[['text','location']]\n",
    "tinubu = tinubu.dropna().loc[tinubu.location =='Nigeria']\n",
    "tinubu.reset_index(inplace = True ,drop =True)"
   ]
  },
  {
   "cell_type": "code",
   "execution_count": 56,
   "id": "2af45ccd",
   "metadata": {},
   "outputs": [],
   "source": [
    "tinubu['cleantext'] = tinubu['text'].apply(clean)"
   ]
  },
  {
   "cell_type": "code",
   "execution_count": 57,
   "id": "429fab39",
   "metadata": {},
   "outputs": [],
   "source": [
    "tinubu['subjectivity'] = tinubu['cleantext'].apply(getsubjectivity)"
   ]
  },
  {
   "cell_type": "code",
   "execution_count": 58,
   "id": "cc18933c",
   "metadata": {},
   "outputs": [],
   "source": [
    "tinubu['polarity'] = tinubu['cleantext'].apply(getpolarity)"
   ]
  },
  {
   "cell_type": "code",
   "execution_count": 59,
   "id": "482d7410",
   "metadata": {},
   "outputs": [],
   "source": [
    "tinubu['analysis'] = tinubu['polarity'].apply(getAnalysis)"
   ]
  },
  {
   "cell_type": "code",
   "execution_count": 60,
   "id": "556b296c",
   "metadata": {},
   "outputs": [
    {
     "data": {
      "text/plain": [
       "positive    82.352941\n",
       "neutral      9.281046\n",
       "negative     8.366013\n",
       "Name: analysis, dtype: float64"
      ]
     },
     "execution_count": 60,
     "metadata": {},
     "output_type": "execute_result"
    }
   ],
   "source": [
    "tinubu.analysis.value_counts(normalize=True)*100"
   ]
  },
  {
   "cell_type": "code",
   "execution_count": 61,
   "id": "698ee23f",
   "metadata": {},
   "outputs": [
    {
     "data": {
      "image/png": "[encoded data removed]",
      "text/plain": [
       "<Figure size 720x360 with 1 Axes>"
      ]
     },
     "metadata": {
      "needs_background": "light"
     },
     "output_type": "display_data"
    }
   ],
   "source": [
    "#Plot graph for analysis of Tinubu tweets\n",
    "plt.figure(figsize=(10,5))\n",
    "(tinubu.analysis.value_counts(normalize=True)*100).plot.bar()\n",
    "plt.ylabel(\"%age of tweets\")\n",
    "plt.title('Plot showing analysis of Tinubu\"s Tweets')\n",
    "plt.show()"
   ]
  },
  {
   "cell_type": "markdown",
   "id": "e03aa115",
   "metadata": {},
   "source": [
    "According to sentiment analysis Tinubu has upper hand over Atiku and Peter Obi in Nigeria which actually matters in presidential elections."
   ]
  }
 ],
 "metadata": {
  "kernelspec": {
   "display_name": "Python 3 (ipykernel)",
   "language": "python",
   "name": "python3"
  },
  "language_info": {
   "codemirror_mode": {
    "name": "ipython",
    "version": 3
   },
   "file_extension": ".py",
   "mimetype": "text/x-python",
   "name": "python",
   "nbconvert_exporter": "python",
   "pygments_lexer": "ipython3",
   "version": "3.9.7"
  }
 },
 "nbformat": 4,
 "nbformat_minor": 5
}
